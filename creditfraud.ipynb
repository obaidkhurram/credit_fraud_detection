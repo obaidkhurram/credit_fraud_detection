{
 "cells": [
  {
   "source": [
    "# Credit Card Fraud\n",
    "\n",
    "This dataset consists of credit card transactions in the western United States. It includes information about each transaction including customer details, the merchant and category of purchase, and whether or not the transaction was a fraud.\n",
    "\n",
    "[Source](https://www.kaggle.com/kartik2112/fraud-detection?select=fraudTrain.csv) of dataset"
   ],
   "metadata": {},
   "id": "active-belize",
   "cell_type": "markdown"
  },
  {
   "source": [
    "import pandas as pd \n",
    "import numpy as np\n",
    "\n",
    "import matplotlib.pyplot as plt\n",
    "import seaborn as sns\n",
    "\n",
    "ccf = pd.read_csv('credit_card_fraud.csv') \n",
    "ccf.head(100)\n",
    "\n",
    "ccf.info()"
   ],
   "metadata": {
    "executionCancelledAt": null,
    "executionTime": null,
    "lastExecutedAt": null,
    "lastScheduledRunId": null,
    "lastSuccessfullyExecutedCode": null,
    "outputsMetadata": {
     "0": {
      "height": 323,
      "type": "dataFrame"
     }
    },
    "ExecuteTime": {
     "end_time": "2024-02-01T17:16:15.224183Z",
     "start_time": "2024-02-01T17:16:14.257846Z"
    }
   },
   "id": "inclusive-leeds",
   "cell_type": "code",
   "execution_count": 2,
   "outputs": [
    {
     "name": "stdout",
     "output_type": "stream",
     "text": [
      "<class 'pandas.core.frame.DataFrame'>\n",
      "RangeIndex: 339607 entries, 0 to 339606\n",
      "Data columns (total 15 columns):\n",
      " #   Column                 Non-Null Count   Dtype  \n",
      "---  ------                 --------------   -----  \n",
      " 0   trans_date_trans_time  339607 non-null  object \n",
      " 1   merchant               339607 non-null  object \n",
      " 2   category               339607 non-null  object \n",
      " 3   amt                    339607 non-null  float64\n",
      " 4   city                   339607 non-null  object \n",
      " 5   state                  339607 non-null  object \n",
      " 6   lat                    339607 non-null  float64\n",
      " 7   long                   339607 non-null  float64\n",
      " 8   city_pop               339607 non-null  int64  \n",
      " 9   job                    339607 non-null  object \n",
      " 10  dob                    339607 non-null  object \n",
      " 11  trans_num              339607 non-null  object \n",
      " 12  merch_lat              339607 non-null  float64\n",
      " 13  merch_long             339607 non-null  float64\n",
      " 14  is_fraud               339607 non-null  int64  \n",
      "dtypes: float64(5), int64(2), object(8)\n",
      "memory usage: 38.9+ MB\n"
     ]
    }
   ]
  },
  {
   "source": [
    "## Data Dictionary\n",
    "\n",
    "| transdatetrans_time | Transaction DateTime                        |\n",
    "|---------------------|---------------------------------------------|\n",
    "| merchant            | Merchant Name                               |\n",
    "| category            | Category of Merchant                        |\n",
    "| amt                 | Amount of Transaction                       |\n",
    "| city                | City of Credit Card Holder                  |\n",
    "| state               | State of Credit Card Holder                 |\n",
    "| lat                 | Latitude Location of Purchase               |\n",
    "| long                | Longitude Location of Purchase              |\n",
    "| city_pop            | Credit Card Holder's City Population        |\n",
    "| job                 | Job of Credit Card Holder                   |\n",
    "| dob                 | Date of Birth of Credit Card Holder         |\n",
    "| trans_num           | Transaction Number                          |\n",
    "| merch_lat           | Latitude Location of Merchant               |\n",
    "| merch_long          | Longitude Location of Merchant              |\n",
    "| is_fraud            | Whether Transaction is Fraud (1) or Not (0) |\n",
    "\n",
    "There does not seem to be any evidence of missing data points. However, it is possible that the missing values are "
   ],
   "metadata": {},
   "id": "79fbba19-d197-4a48-a01b-db4e78a02282",
   "cell_type": "markdown"
  },
  {
   "cell_type": "markdown",
   "source": [
    "# Data Exploration"
   ],
   "metadata": {
    "collapsed": false
   },
   "id": "ac572bd374823f77"
  },
  {
   "cell_type": "code",
   "execution_count": 45,
   "outputs": [
    {
     "data": {
      "text/plain": "'Fraud comprises  0.5% of all transactions'"
     },
     "metadata": {},
     "output_type": "display_data"
    },
    {
     "data": {
      "text/plain": "Text(0.5, 1.0, '')"
     },
     "execution_count": 45,
     "metadata": {},
     "output_type": "execute_result"
    },
    {
     "data": {
      "text/plain": "<Figure size 640x480 with 1 Axes>",
      "image/png": "[encoded data removed]"
     },
     "metadata": {},
     "output_type": "display_data"
    }
   ],
   "source": [
    "# The data set is massive and fraud should be relatively sparse. In order to get a better sense of what the data look like without imposing the computational load of interacting with 300K+ data points, we will sample the non-fraudulent data set such that so we have the same number of data points as the fraudulent transactions.\n",
    "\n",
    "# Note that fraud makes up a tiny percentage of the overall data set\n",
    "percent_fraud = np.round(ccf['is_fraud'].mean()*100,1)\n",
    "display(f\"Fraud comprises {percent_fraud: .1f}% of all transactions\")\n",
    "# Split the fraud and non-fraud datsets\n",
    "ccf_fraud = ccf[ccf['is_fraud']==1]\n",
    "ccf_true = ccf[ccf['is_fraud']==0]\n",
    "ccf_true_smallsample = ccf_true.sample(len(ccf_fraud),random_state=21)\n",
    "# Make the histogram\n",
    "bins = np.arange(0,2000,20)\n",
    "fig, ax = plt.subplots(1,1)\n",
    "ccf_true_smallsample.hist('amt',\n",
    "                          bins=bins,\n",
    "                          ax=ax,\n",
    "                          alpha=.8,\n",
    "                          color=\"#54883d\",\n",
    "                          density=True,\n",
    "                          grid=False\n",
    "                          )\n",
    "ccf_fraud.hist('amt',\n",
    "               bins=bins,\n",
    "               ax=ax,\n",
    "               alpha=.8,\n",
    "               color=[\"#fa8072\"],\n",
    "               density=True,\n",
    "               grid=False\n",
    "               )\n",
    "\n",
    "plt.legend([\"Not Fraud\",\"Fraud\"])\n",
    "plt.xlabel('Amount ($)')\n",
    "plt.ylabel('Density')\n",
    "plt.title('')"
   ],
   "metadata": {
    "collapsed": false,
    "ExecuteTime": {
     "end_time": "2024-02-01T18:07:17.048164Z",
     "start_time": "2024-02-01T18:07:16.657787Z"
    }
   },
   "id": "8d81c5168dbafd4c"
  },
  {
   "source": [],
   "metadata": {},
   "id": "f86011a3-ce1e-4810-8b06-a7cfbd45a288",
   "cell_type": "markdown"
  },
  {
   "source": [],
   "metadata": {},
   "id": "6ac777ab",
   "cell_type": "markdown"
  }
 ],
 "metadata": {
  "language_info": {
   "name": "python",
   "version": "3.8.10",
   "mimetype": "text/x-python",
   "codemirror_mode": {
    "name": "ipython",
    "version": 3
   },
   "pygments_lexer": "ipython3",
   "nbconvert_exporter": "python",
   "file_extension": ".py"
  },
  "kernelspec": {
   "display_name": "Python 3 (ipykernel)",
   "language": "python",
   "name": "python3"
  },
  "editor": "DataCamp Workspace"
 },
 "nbformat": 4,
 "nbformat_minor": 5
}
